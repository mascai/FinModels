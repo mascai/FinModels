{
 "cells": [
  {
   "cell_type": "code",
   "execution_count": 7,
   "metadata": {},
   "outputs": [],
   "source": [
    "?se"
   ]
  },
  {
   "cell_type": "code",
   "execution_count": 12,
   "metadata": {},
   "outputs": [
    {
     "data": {
      "text/html": [
       "<table>\n",
       "<tbody>\n",
       "\t<tr><td>32</td></tr>\n",
       "</tbody>\n",
       "</table>\n"
      ],
      "text/latex": [
       "\\begin{tabular}{l}\n",
       "\t 32\\\\\n",
       "\\end{tabular}\n"
      ],
      "text/markdown": [
       "\n",
       "| 32 |\n",
       "\n"
      ],
      "text/plain": [
       "     [,1]\n",
       "[1,] 32  "
      ]
     },
     "metadata": {},
     "output_type": "display_data"
    }
   ],
   "source": [
    "c = seq(1,3)\n",
    "d = c(4,5,6)\n",
    "\n",
    "r = c%*%d\n",
    "r"
   ]
  },
  {
   "cell_type": "code",
   "execution_count": 19,
   "metadata": {},
   "outputs": [
    {
     "data": {
      "text/html": [
       "<table>\n",
       "<tbody>\n",
       "\t<tr><td>1 </td><td>4 </td><td>7 </td><td>10</td><td>13</td></tr>\n",
       "\t<tr><td>2 </td><td>5 </td><td>8 </td><td>11</td><td>14</td></tr>\n",
       "\t<tr><td>3 </td><td>6 </td><td>9 </td><td>12</td><td>15</td></tr>\n",
       "</tbody>\n",
       "</table>\n"
      ],
      "text/latex": [
       "\\begin{tabular}{lllll}\n",
       "\t 1  & 4  & 7  & 10 & 13\\\\\n",
       "\t 2  & 5  & 8  & 11 & 14\\\\\n",
       "\t 3  & 6  & 9  & 12 & 15\\\\\n",
       "\\end{tabular}\n"
      ],
      "text/markdown": [
       "\n",
       "| 1  | 4  | 7  | 10 | 13 |\n",
       "| 2  | 5  | 8  | 11 | 14 |\n",
       "| 3  | 6  | 9  | 12 | 15 |\n",
       "\n"
      ],
      "text/plain": [
       "     [,1] [,2] [,3] [,4] [,5]\n",
       "[1,] 1    4    7    10   13  \n",
       "[2,] 2    5    8    11   14  \n",
       "[3,] 3    6    9    12   15  "
      ]
     },
     "metadata": {},
     "output_type": "display_data"
    }
   ],
   "source": [
    "r = matrix(1:15, nrow=3, ncol=5)\n",
    "r"
   ]
  },
  {
   "cell_type": "code",
   "execution_count": 23,
   "metadata": {},
   "outputs": [
    {
     "data": {
      "text/html": [
       "<table>\n",
       "<tbody>\n",
       "\t<tr><td>7 </td><td>10</td><td>13</td></tr>\n",
       "\t<tr><td>8 </td><td>11</td><td>14</td></tr>\n",
       "</tbody>\n",
       "</table>\n"
      ],
      "text/latex": [
       "\\begin{tabular}{lll}\n",
       "\t 7  & 10 & 13\\\\\n",
       "\t 8  & 11 & 14\\\\\n",
       "\\end{tabular}\n"
      ],
      "text/markdown": [
       "\n",
       "| 7  | 10 | 13 |\n",
       "| 8  | 11 | 14 |\n",
       "\n"
      ],
      "text/plain": [
       "     [,1] [,2] [,3]\n",
       "[1,] 7    10   13  \n",
       "[2,] 8    11   14  "
      ]
     },
     "metadata": {},
     "output_type": "display_data"
    }
   ],
   "source": [
    "r[1:2,3:5]"
   ]
  },
  {
   "cell_type": "code",
   "execution_count": 25,
   "metadata": {},
   "outputs": [
    {
     "data": {
      "text/html": [
       "<ol class=list-inline>\n",
       "\t<li>3</li>\n",
       "\t<li>5</li>\n",
       "</ol>\n"
      ],
      "text/latex": [
       "\\begin{enumerate*}\n",
       "\\item 3\n",
       "\\item 5\n",
       "\\end{enumerate*}\n"
      ],
      "text/markdown": [
       "1. 3\n",
       "2. 5\n",
       "\n",
       "\n"
      ],
      "text/plain": [
       "[1] 3 5"
      ]
     },
     "metadata": {},
     "output_type": "display_data"
    }
   ],
   "source": [
    "dim(r)\n"
   ]
  },
  {
   "cell_type": "code",
   "execution_count": 27,
   "metadata": {},
   "outputs": [
    {
     "ename": "ERROR",
     "evalue": "Error in eye(3): could not find function \"eye\"\n",
     "output_type": "error",
     "traceback": [
      "Error in eye(3): could not find function \"eye\"\nTraceback:\n"
     ]
    }
   ],
   "source": [
    "eye(3)"
   ]
  },
  {
   "cell_type": "markdown",
   "metadata": {},
   "source": [
    "# DataTypes\n"
   ]
  },
  {
   "cell_type": "code",
   "execution_count": 30,
   "metadata": {},
   "outputs": [
    {
     "data": {
      "text/html": [
       "'logical'"
      ],
      "text/latex": [
       "'logical'"
      ],
      "text/markdown": [
       "'logical'"
      ],
      "text/plain": [
       "[1] \"logical\""
      ]
     },
     "metadata": {},
     "output_type": "display_data"
    }
   ],
   "source": [
    "x <- TRUE\n",
    "typeof(x)"
   ]
  },
  {
   "cell_type": "code",
   "execution_count": 32,
   "metadata": {},
   "outputs": [
    {
     "data": {
      "text/html": [
       "'double'"
      ],
      "text/latex": [
       "'double'"
      ],
      "text/markdown": [
       "'double'"
      ],
      "text/plain": [
       "[1] \"double\""
      ]
     },
     "metadata": {},
     "output_type": "display_data"
    }
   ],
   "source": [
    "a = 2.4\n",
    "typeof(a)"
   ]
  },
  {
   "cell_type": "code",
   "execution_count": 35,
   "metadata": {},
   "outputs": [
    {
     "data": {
      "text/html": [
       "'integer'"
      ],
      "text/latex": [
       "'integer'"
      ],
      "text/markdown": [
       "'integer'"
      ],
      "text/plain": [
       "[1] \"integer\""
      ]
     },
     "metadata": {},
     "output_type": "display_data"
    }
   ],
   "source": [
    "a = 2L\n",
    "typeof(a)"
   ]
  },
  {
   "cell_type": "code",
   "execution_count": 37,
   "metadata": {},
   "outputs": [
    {
     "data": {
      "text/html": [
       "'character'"
      ],
      "text/latex": [
       "'character'"
      ],
      "text/markdown": [
       "'character'"
      ],
      "text/plain": [
       "[1] \"character\""
      ]
     },
     "metadata": {},
     "output_type": "display_data"
    }
   ],
   "source": [
    "a = \"asdadfsv\"\n",
    "typeof(a)"
   ]
  },
  {
   "cell_type": "code",
   "execution_count": 41,
   "metadata": {},
   "outputs": [
    {
     "name": "stdout",
     "output_type": "stream",
     "text": [
      "[1] 48 65 6c 6c 6f\n"
     ]
    },
    {
     "data": {
      "text/html": [
       "'raw'"
      ],
      "text/latex": [
       "'raw'"
      ],
      "text/markdown": [
       "'raw'"
      ],
      "text/plain": [
       "[1] \"raw\""
      ]
     },
     "metadata": {},
     "output_type": "display_data"
    }
   ],
   "source": [
    "c = charToRaw(\"Hello\")\n",
    "print(c)\n",
    "typeof(c)"
   ]
  },
  {
   "cell_type": "markdown",
   "metadata": {},
   "source": [
    "# Vector"
   ]
  },
  {
   "cell_type": "code",
   "execution_count": 53,
   "metadata": {},
   "outputs": [
    {
     "name": "stdout",
     "output_type": "stream",
     "text": [
      "[1] \"1\"     \"as\"    \"Asd\"   \"FALSE\" \"1\"     \"24\"   \n"
     ]
    }
   ],
   "source": [
    "app = c(1L, \"as\", \"Asd\", FALSE, c(1,24))\n",
    "print(app)"
   ]
  },
  {
   "cell_type": "markdown",
   "metadata": {},
   "source": [
    "##  type of the components in the hierarchy NULL < raw < logical < integer < double < complex < character < list < expression. "
   ]
  },
  {
   "cell_type": "code",
   "execution_count": 60,
   "metadata": {},
   "outputs": [
    {
     "data": {
      "text/html": [
       "<ol>\n",
       "\t<li>21.3</li>\n",
       "</ol>\n"
      ],
      "text/latex": [
       "\\begin{enumerate}\n",
       "\\item 21.3\n",
       "\\end{enumerate}\n"
      ],
      "text/markdown": [
       "1. 21.3\n",
       "\n",
       "\n"
      ],
      "text/plain": [
       "[[1]]\n",
       "[1] 21.3\n"
      ]
     },
     "metadata": {},
     "output_type": "display_data"
    }
   ],
   "source": [
    "# Create a list.\n",
    "list1 <- list(c(2,5,3),21.3,sin)\n",
    "list1[2]"
   ]
  },
  {
   "cell_type": "code",
   "execution_count": 64,
   "metadata": {},
   "outputs": [
    {
     "name": "stdout",
     "output_type": "stream",
     "text": [
      "  gender height weight Age\n",
      "1   Male  152.0     81  42\n",
      "2   Male  171.5     93  38\n",
      "3 Female  165.0     78  26\n"
     ]
    }
   ],
   "source": [
    "df = data.frame(\n",
    "   gender = c(\"Male\", \"Male\",\"Female\"), \n",
    "   height = c(152, 171.5, 165), \n",
    "   weight = c(81,93, 78),\n",
    "   Age = c(42,38,26)\n",
    ")\n",
    "print(df)\n"
   ]
  },
  {
   "cell_type": "markdown",
   "metadata": {},
   "source": [
    "# Example"
   ]
  },
  {
   "cell_type": "code",
   "execution_count": 85,
   "metadata": {},
   "outputs": [
    {
     "data": {
      "text/html": [
       "<table>\n",
       "<thead><tr><th scope=col>x</th><th scope=col>y</th></tr></thead>\n",
       "<tbody>\n",
       "\t<tr><td>0.06509492  </td><td>-0.018956047</td></tr>\n",
       "\t<tr><td>0.24892435  </td><td> 0.033492091</td></tr>\n",
       "\t<tr><td>0.99437008  </td><td> 0.981636427</td></tr>\n",
       "\t<tr><td>0.38202420  </td><td>-0.058861344</td></tr>\n",
       "\t<tr><td>0.92783434  </td><td> 0.703445343</td></tr>\n",
       "\t<tr><td>0.62235636  </td><td> 0.242125720</td></tr>\n",
       "\t<tr><td>0.35568017  </td><td> 0.104397595</td></tr>\n",
       "\t<tr><td>0.70501371  </td><td> 0.335720263</td></tr>\n",
       "\t<tr><td>0.33922391  </td><td> 0.044535428</td></tr>\n",
       "\t<tr><td>0.83630685  </td><td> 0.669437846</td></tr>\n",
       "\t<tr><td>0.91518966  </td><td> 0.799474474</td></tr>\n",
       "\t<tr><td>0.71650997  </td><td> 0.315935511</td></tr>\n",
       "\t<tr><td>0.76370811  </td><td> 0.419211374</td></tr>\n",
       "\t<tr><td>0.96933996  </td><td> 0.846857290</td></tr>\n",
       "\t<tr><td>0.26376039  </td><td> 0.096759771</td></tr>\n",
       "\t<tr><td>0.03241314  </td><td> 0.063434688</td></tr>\n",
       "\t<tr><td>0.95286468  </td><td> 0.773726168</td></tr>\n",
       "\t<tr><td>0.13373872  </td><td> 0.068108219</td></tr>\n",
       "\t<tr><td>0.84058396  </td><td> 0.575891997</td></tr>\n",
       "\t<tr><td>0.40862200  </td><td> 0.182855780</td></tr>\n",
       "\t<tr><td>0.44225841  </td><td>-0.009329592</td></tr>\n",
       "\t<tr><td>0.87552614  </td><td> 0.708662789</td></tr>\n",
       "\t<tr><td>0.21690822  </td><td> 0.045038519</td></tr>\n",
       "\t<tr><td>0.76661308  </td><td> 0.505268875</td></tr>\n",
       "</tbody>\n",
       "</table>\n"
      ],
      "text/latex": [
       "\\begin{tabular}{r|ll}\n",
       " x & y\\\\\n",
       "\\hline\n",
       "\t 0.06509492   & -0.018956047\\\\\n",
       "\t 0.24892435   &  0.033492091\\\\\n",
       "\t 0.99437008   &  0.981636427\\\\\n",
       "\t 0.38202420   & -0.058861344\\\\\n",
       "\t 0.92783434   &  0.703445343\\\\\n",
       "\t 0.62235636   &  0.242125720\\\\\n",
       "\t 0.35568017   &  0.104397595\\\\\n",
       "\t 0.70501371   &  0.335720263\\\\\n",
       "\t 0.33922391   &  0.044535428\\\\\n",
       "\t 0.83630685   &  0.669437846\\\\\n",
       "\t 0.91518966   &  0.799474474\\\\\n",
       "\t 0.71650997   &  0.315935511\\\\\n",
       "\t 0.76370811   &  0.419211374\\\\\n",
       "\t 0.96933996   &  0.846857290\\\\\n",
       "\t 0.26376039   &  0.096759771\\\\\n",
       "\t 0.03241314   &  0.063434688\\\\\n",
       "\t 0.95286468   &  0.773726168\\\\\n",
       "\t 0.13373872   &  0.068108219\\\\\n",
       "\t 0.84058396   &  0.575891997\\\\\n",
       "\t 0.40862200   &  0.182855780\\\\\n",
       "\t 0.44225841   & -0.009329592\\\\\n",
       "\t 0.87552614   &  0.708662789\\\\\n",
       "\t 0.21690822   &  0.045038519\\\\\n",
       "\t 0.76661308   &  0.505268875\\\\\n",
       "\\end{tabular}\n"
      ],
      "text/markdown": [
       "\n",
       "| x | y |\n",
       "|---|---|\n",
       "| 0.06509492   | -0.018956047 |\n",
       "| 0.24892435   |  0.033492091 |\n",
       "| 0.99437008   |  0.981636427 |\n",
       "| 0.38202420   | -0.058861344 |\n",
       "| 0.92783434   |  0.703445343 |\n",
       "| 0.62235636   |  0.242125720 |\n",
       "| 0.35568017   |  0.104397595 |\n",
       "| 0.70501371   |  0.335720263 |\n",
       "| 0.33922391   |  0.044535428 |\n",
       "| 0.83630685   |  0.669437846 |\n",
       "| 0.91518966   |  0.799474474 |\n",
       "| 0.71650997   |  0.315935511 |\n",
       "| 0.76370811   |  0.419211374 |\n",
       "| 0.96933996   |  0.846857290 |\n",
       "| 0.26376039   |  0.096759771 |\n",
       "| 0.03241314   |  0.063434688 |\n",
       "| 0.95286468   |  0.773726168 |\n",
       "| 0.13373872   |  0.068108219 |\n",
       "| 0.84058396   |  0.575891997 |\n",
       "| 0.40862200   |  0.182855780 |\n",
       "| 0.44225841   | -0.009329592 |\n",
       "| 0.87552614   |  0.708662789 |\n",
       "| 0.21690822   |  0.045038519 |\n",
       "| 0.76661308   |  0.505268875 |\n",
       "\n"
      ],
      "text/plain": [
       "   x          y           \n",
       "1  0.06509492 -0.018956047\n",
       "2  0.24892435  0.033492091\n",
       "3  0.99437008  0.981636427\n",
       "4  0.38202420 -0.058861344\n",
       "5  0.92783434  0.703445343\n",
       "6  0.62235636  0.242125720\n",
       "7  0.35568017  0.104397595\n",
       "8  0.70501371  0.335720263\n",
       "9  0.33922391  0.044535428\n",
       "10 0.83630685  0.669437846\n",
       "11 0.91518966  0.799474474\n",
       "12 0.71650997  0.315935511\n",
       "13 0.76370811  0.419211374\n",
       "14 0.96933996  0.846857290\n",
       "15 0.26376039  0.096759771\n",
       "16 0.03241314  0.063434688\n",
       "17 0.95286468  0.773726168\n",
       "18 0.13373872  0.068108219\n",
       "19 0.84058396  0.575891997\n",
       "20 0.40862200  0.182855780\n",
       "21 0.44225841 -0.009329592\n",
       "22 0.87552614  0.708662789\n",
       "23 0.21690822  0.045038519\n",
       "24 0.76661308  0.505268875"
      ]
     },
     "metadata": {},
     "output_type": "display_data"
    }
   ],
   "source": [
    "len = 24\n",
    "x = runif(len, min=0, max=1)\n",
    "y <- x^3 + rnorm(len, 0, 0.06)\n",
    "ds = data.frame(x=x, y=y)\n",
    "ds"
   ]
  },
  {
   "cell_type": "code",
   "execution_count": 89,
   "metadata": {},
   "outputs": [
    {
     "data": {
      "image/png": "[encoded data removed]",
      "text/plain": [
       "Plot with title “Known cubis, with noise”"
      ]
     },
     "metadata": {},
     "output_type": "display_data"
    }
   ],
   "source": [
    "plot(y~x, main=\"Known cubis, with noise\")\n",
    "s = seq(0, 1, length=100)\n",
    "lines(s, s^3, lty=2, col=\"green\")"
   ]
  },
  {
   "cell_type": "markdown",
   "metadata": {},
   "source": [
    "### we want to determine the most likely value for the exponent.\n",
    "y_i = (x_i)^m + eps_i\n",
    "\n",
    "eps ~ N(0, sigma^2)"
   ]
  },
  {
   "cell_type": "code",
   "execution_count": 93,
   "metadata": {},
   "outputs": [
    {
     "name": "stdout",
     "output_type": "stream",
     "text": [
      "1,580577 :  1\n",
      "0,3371821 :  1,91438\n",
      "0,1066605 :  2,716252\n",
      "0,0935088 :  2,999758\n",
      "0,09342697 :  3,024651\n",
      "0,09342691 :  3,025346\n",
      "0,09342691 :  3,025363\n"
     ]
    }
   ],
   "source": [
    "m = nls(y ~ I(x^power), data=ds, start=list(power=1), trace=T)"
   ]
  },
  {
   "cell_type": "code",
   "execution_count": 94,
   "metadata": {},
   "outputs": [
    {
     "name": "stderr",
     "output_type": "stream",
     "text": [
      "Warning message in printCoefmat(x$coefficients, digits = digits, signif.stars = signif.stars, :\n",
      "“NAs introduced by coercion”"
     ]
    },
    {
     "data": {
      "text/plain": [
       "\n",
       "Formula: y ~ I(x^power)\n",
       "\n",
       "Parameters:\n",
       "      Estimate Std. Error t value Pr(>|t|)    \n",
       "power    3,025      0,179    16,9 1,84e-14 ***\n",
       "---\n",
       "Signif. codes:  0 ‘***’ 0,001 ‘**’ 0,01 ‘*’ 0,05 ‘.’ 0,1 ‘ ’ 1\n",
       "\n",
       "Residual standard error: 0,06373 on 23 degrees of freedom\n",
       "\n",
       "Number of iterations to convergence: 6 \n",
       "Achieved convergence tolerance: 4,38e-07\n"
      ]
     },
     "metadata": {},
     "output_type": "display_data"
    }
   ],
   "source": [
    "summary(m)"
   ]
  },
  {
   "cell_type": "code",
   "execution_count": 95,
   "metadata": {},
   "outputs": [
    {
     "data": {
      "text/html": [
       "<table>\n",
       "<thead><tr><th></th><th scope=col>Estimate</th><th scope=col>Std. Error</th><th scope=col>t value</th><th scope=col>Pr(&gt;|t|)</th></tr></thead>\n",
       "<tbody>\n",
       "\t<tr><th scope=row>power</th><td>3,025363    </td><td>0,1790354   </td><td>16,89812    </td><td>1,838533e-14</td></tr>\n",
       "</tbody>\n",
       "</table>\n"
      ],
      "text/latex": [
       "\\begin{tabular}{r|llll}\n",
       "  & Estimate & Std. Error & t value & Pr(>\\textbar{}t\\textbar{})\\\\\n",
       "\\hline\n",
       "\tpower & 3,025363     & 0,1790354    & 16,89812     & 1,838533e-14\\\\\n",
       "\\end{tabular}\n"
      ],
      "text/markdown": [
       "\n",
       "| <!--/--> | Estimate | Std. Error | t value | Pr(>|t|) |\n",
       "|---|---|---|---|---|\n",
       "| power | 3,025363     | 0,1790354    | 16,89812     | 1,838533e-14 |\n",
       "\n"
      ],
      "text/plain": [
       "      Estimate Std. Error t value  Pr(>|t|)    \n",
       "power 3,025363 0,1790354  16,89812 1,838533e-14"
      ]
     },
     "metadata": {},
     "output_type": "display_data"
    }
   ],
   "source": [
    "summary(m)$coefficients"
   ]
  },
  {
   "cell_type": "code",
   "execution_count": 99,
   "metadata": {},
   "outputs": [
    {
     "data": {
      "text/html": [
       "3,025"
      ],
      "text/latex": [
       "3,025"
      ],
      "text/markdown": [
       "3,025"
      ],
      "text/plain": [
       "[1] 3,025"
      ]
     },
     "metadata": {},
     "output_type": "display_data"
    }
   ],
   "source": [
    "power <- round(summary(m)$coefficients[1],3)\n",
    "power"
   ]
  },
  {
   "cell_type": "code",
   "execution_count": 101,
   "metadata": {},
   "outputs": [
    {
     "data": {
      "text/html": [
       "0,179"
      ],
      "text/latex": [
       "0,179"
      ],
      "text/markdown": [
       "0,179"
      ],
      "text/plain": [
       "[1] 0,179"
      ]
     },
     "metadata": {},
     "output_type": "display_data"
    }
   ],
   "source": [
    "power.se = round(summary(m)$coefficients[2], 3)\n",
    "power.se"
   ]
  },
  {
   "cell_type": "code",
   "execution_count": 107,
   "metadata": {},
   "outputs": [
    {
     "data": {
      "image/png": "[encoded data removed]",
      "text/plain": [
       "Plot with title “Fitted power model”"
      ]
     },
     "metadata": {},
     "output_type": "display_data"
    }
   ],
   "source": [
    "plot(y ~ x, main = \"Fitted power model\", sub = \"Blue: fit; green: known\")\n",
    "s = seq(0, 1, length=100)\n",
    "lines(s, s^3, lty=2, col=\"red\")\n",
    "lines(s, predict(m, list(x = s)), lty = 1, col = \"blue\")\n",
    "\n",
    "text(0, 0.5, paste(\"y =x^ (\", power, \" +/- \", power.se, \")\", sep=\"\"), pos=4)"
   ]
  },
  {
   "cell_type": "code",
   "execution_count": 110,
   "metadata": {},
   "outputs": [
    {
     "data": {
      "text/html": [
       "0,0934269117040692"
      ],
      "text/latex": [
       "0,0934269117040692"
      ],
      "text/markdown": [
       "0,0934269117040692"
      ],
      "text/plain": [
       "[1] 0,09342691"
      ]
     },
     "metadata": {},
     "output_type": "display_data"
    }
   ],
   "source": [
    "RSS.p <- sum(residuals(m)^2)\n",
    "RSS.p"
   ]
  },
  {
   "cell_type": "code",
   "execution_count": null,
   "metadata": {},
   "outputs": [],
   "source": []
  }
 ],
 "metadata": {
  "kernelspec": {
   "display_name": "R",
   "language": "R",
   "name": "ir"
  },
  "language_info": {
   "codemirror_mode": "r",
   "file_extension": ".r",
   "mimetype": "text/x-r-source",
   "name": "R",
   "pygments_lexer": "r",
   "version": "3.6.1"
  }
 },
 "nbformat": 4,
 "nbformat_minor": 2
}
